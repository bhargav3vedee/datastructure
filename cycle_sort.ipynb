{
 "cells": [
  {
   "cell_type": "markdown",
   "id": "01e6d264",
   "metadata": {},
   "source": [
    "steps for cycle sort\n",
    "\n",
    "1) find values smaller than current value <br>\n",
    "2) set current value to count index"
   ]
  },
  {
   "cell_type": "code",
   "execution_count": 19,
   "id": "167c40ce",
   "metadata": {},
   "outputs": [
    {
     "name": "stdout",
     "output_type": "stream",
     "text": [
      "1 20\n",
      "3 40\n",
      "4 50\n",
      "0 10\n",
      "2 30\n"
     ]
    }
   ],
   "source": [
    "arr = [20, 40, 50, 10, 30]\n",
    "res = [0]*len(arr)\n",
    "\n",
    "for i in range(len(arr)):\n",
    "    cnt = 0\n",
    "    \n",
    "    for j in range(len(arr)):\n",
    "        if arr[j] < arr[i]:\n",
    "            cnt += 1\n",
    "    print(cnt, arr[i])\n",
    "    \n",
    "    res[cnt] = arr[i]"
   ]
  },
  {
   "cell_type": "code",
   "execution_count": 20,
   "id": "e81a79a5",
   "metadata": {},
   "outputs": [
    {
     "data": {
      "text/plain": [
       "[10, 20, 30, 40, 50]"
      ]
     },
     "execution_count": 20,
     "metadata": {},
     "output_type": "execute_result"
    }
   ],
   "source": [
    "res"
   ]
  }
 ],
 "metadata": {
  "kernelspec": {
   "display_name": "Python 3",
   "language": "python",
   "name": "python3"
  },
  "language_info": {
   "codemirror_mode": {
    "name": "ipython",
    "version": 3
   },
   "file_extension": ".py",
   "mimetype": "text/x-python",
   "name": "python",
   "nbconvert_exporter": "python",
   "pygments_lexer": "ipython3",
   "version": "3.8.8"
  }
 },
 "nbformat": 4,
 "nbformat_minor": 5
}
